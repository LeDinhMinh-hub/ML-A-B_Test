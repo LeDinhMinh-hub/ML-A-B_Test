{
  "cells": [
    {
      "cell_type": "markdown",
      "metadata": {
        "id": "view-in-github",
        "colab_type": "text"
      },
      "source": [
        "<a href=\"https://colab.research.google.com/github/LeDinhMinh-hub/ML-AB_Test/blob/main/L%C3%AA_%C4%90%C3%ACnh_Minh.ipynb\" target=\"_parent\"><img src=\"https://colab.research.google.com/assets/colab-badge.svg\" alt=\"Open In Colab\"/></a>"
      ]
    },
    {
      "cell_type": "markdown",
      "source": [
        "### Define goal\n",
        "The goal of this A/B test is to determine which screen design - Screen A (discounted price) or Screen B (discount amount) - is more effective at driving conversions for the whitelist customers on the membership subscription offering."
      ],
      "metadata": {
        "id": "rpmCX5ZSrK3t"
      },
      "id": "rpmCX5ZSrK3t"
    },
    {
      "cell_type": "markdown",
      "source": [
        "### Define variables to test\n",
        "- Independent Variable: Screen design (Screen A vs. Screen B)\n",
        "\n",
        "- Dependent Variable: Conversion rate on the membership subscription purchase"
      ],
      "metadata": {
        "id": "jmplIziMrPQD"
      },
      "id": "jmplIziMrPQD"
    },
    {
      "cell_type": "markdown",
      "source": [
        "### Create Variants\n",
        "- Variant A: Screen showing the discounted price of 99k\n",
        "\n",
        "- Variant B: Screen showing the discount amount of 100k"
      ],
      "metadata": {
        "id": "yGYXZIOmrROF"
      },
      "id": "yGYXZIOmrROF"
    },
    {
      "cell_type": "markdown",
      "source": [
        "### Split Audience\n",
        "Randomly split the whitelist customer audience into two equal groups:\n",
        "\n",
        "- Group 1 will be shown Variant A (discounted price)\n",
        "\n",
        "- Group 2 will be shown Variant B (discount amount)"
      ],
      "metadata": {
        "id": "3adLqFeorTf5"
      },
      "id": "3adLqFeorTf5"
    },
    {
      "cell_type": "markdown",
      "source": [
        "### External Impacts\n",
        "#### Competitor Promotions:\n",
        "If competitors in the ecommerce space are running their own promotions or discounts during the test period, it could influence the whitelist customers' purchasing decisions. This could make one screen design perform better than the other, not necessarily due to the screen design itself.\n",
        "\n",
        "To mitigate: Carefully monitor the test environment and track any changes in the market or competitive landscape\n",
        "\n",
        "To monitor:\n",
        "- Regularly monitor competitor websites and marketing channels for any promotional activities related to similar membership subscriptions.\n",
        "- Set up alerts or run weekly/monthly competitive analysis reports to stay informed.\n",
        "\n",
        "\n",
        "#### Marketing campaigns\n",
        "Any concurrent marketing campaigns, emails, or other promotional activities could interact with the screen designs and impact the test results.\n",
        "\n",
        "To mitigate: Ensure there are no other major marketing or promotional activities happening concurrently.\n",
        "\n",
        "To monitor:\n",
        "- Closely track all marketing activities (emails, social posts, etc.) happening during the A/B test period.\n",
        "- Maintain a calendar of marketing campaigns and promotions to identify any potential confounding factors.\n",
        "- Analyze marketing attribution data to understand the impact of concurrent campaigns on the test results.\n",
        "\n",
        "#### Seasonality\n",
        "The time of year or season could impact customer purchasing behavior and willingness to subscribe, independent of the screen design.\n",
        "\n",
        "To mitigate: Consider running the test over a longer duration to account for seasonal fluctuations\n",
        "\n",
        "To monitor:\n",
        "- Track historical sales data and conversion rates for the membership subscription over the past 12-24 months to identify seasonal trends.\n",
        "- Double check the seasonaility index to estimate the expected performance of the to-do test.\n"
      ],
      "metadata": {
        "id": "A1pn57KvrXHS"
      },
      "id": "A1pn57KvrXHS"
    },
    {
      "cell_type": "markdown",
      "source": [
        "### Collect result & analyze\n",
        "To see if Screen A would convert better than Screen B, I would use a one-sided Chi-Square test:\n",
        "\n",
        "- Null Hypothesis (H0): The conversion rate for Screen A is less than or equal to the conversion rate for Screen B.\n",
        "\n",
        "- Alternative Hypothesis (H1): The conversion rate for Screen A is greater than the conversion rate for Screen B.\n"
      ],
      "metadata": {
        "id": "loTNvN_2rbgK"
      },
      "id": "loTNvN_2rbgK"
    },
    {
      "cell_type": "code",
      "source": [
        "from google.colab import files"
      ],
      "metadata": {
        "id": "Hx219OJLSWtO"
      },
      "id": "Hx219OJLSWtO",
      "execution_count": null,
      "outputs": []
    },
    {
      "cell_type": "code",
      "source": [
        "uploaded = files.upload()"
      ],
      "metadata": {
        "colab": {
          "base_uri": "https://localhost:8080/",
          "height": 74
        },
        "id": "Jp5PTDz93_2M",
        "outputId": "0a7580af-8565-43ad-b52e-e048e799433c"
      },
      "id": "Jp5PTDz93_2M",
      "execution_count": null,
      "outputs": [
        {
          "output_type": "display_data",
          "data": {
            "text/plain": [
              "<IPython.core.display.HTML object>"
            ],
            "text/html": [
              "\n",
              "     <input type=\"file\" id=\"files-2d054948-dcf5-4388-ae91-b33f015f2b93\" name=\"files[]\" multiple disabled\n",
              "        style=\"border:none\" />\n",
              "     <output id=\"result-2d054948-dcf5-4388-ae91-b33f015f2b93\">\n",
              "      Upload widget is only available when the cell has been executed in the\n",
              "      current browser session. Please rerun this cell to enable.\n",
              "      </output>\n",
              "      <script>// Copyright 2017 Google LLC\n",
              "//\n",
              "// Licensed under the Apache License, Version 2.0 (the \"License\");\n",
              "// you may not use this file except in compliance with the License.\n",
              "// You may obtain a copy of the License at\n",
              "//\n",
              "//      http://www.apache.org/licenses/LICENSE-2.0\n",
              "//\n",
              "// Unless required by applicable law or agreed to in writing, software\n",
              "// distributed under the License is distributed on an \"AS IS\" BASIS,\n",
              "// WITHOUT WARRANTIES OR CONDITIONS OF ANY KIND, either express or implied.\n",
              "// See the License for the specific language governing permissions and\n",
              "// limitations under the License.\n",
              "\n",
              "/**\n",
              " * @fileoverview Helpers for google.colab Python module.\n",
              " */\n",
              "(function(scope) {\n",
              "function span(text, styleAttributes = {}) {\n",
              "  const element = document.createElement('span');\n",
              "  element.textContent = text;\n",
              "  for (const key of Object.keys(styleAttributes)) {\n",
              "    element.style[key] = styleAttributes[key];\n",
              "  }\n",
              "  return element;\n",
              "}\n",
              "\n",
              "// Max number of bytes which will be uploaded at a time.\n",
              "const MAX_PAYLOAD_SIZE = 100 * 1024;\n",
              "\n",
              "function _uploadFiles(inputId, outputId) {\n",
              "  const steps = uploadFilesStep(inputId, outputId);\n",
              "  const outputElement = document.getElementById(outputId);\n",
              "  // Cache steps on the outputElement to make it available for the next call\n",
              "  // to uploadFilesContinue from Python.\n",
              "  outputElement.steps = steps;\n",
              "\n",
              "  return _uploadFilesContinue(outputId);\n",
              "}\n",
              "\n",
              "// This is roughly an async generator (not supported in the browser yet),\n",
              "// where there are multiple asynchronous steps and the Python side is going\n",
              "// to poll for completion of each step.\n",
              "// This uses a Promise to block the python side on completion of each step,\n",
              "// then passes the result of the previous step as the input to the next step.\n",
              "function _uploadFilesContinue(outputId) {\n",
              "  const outputElement = document.getElementById(outputId);\n",
              "  const steps = outputElement.steps;\n",
              "\n",
              "  const next = steps.next(outputElement.lastPromiseValue);\n",
              "  return Promise.resolve(next.value.promise).then((value) => {\n",
              "    // Cache the last promise value to make it available to the next\n",
              "    // step of the generator.\n",
              "    outputElement.lastPromiseValue = value;\n",
              "    return next.value.response;\n",
              "  });\n",
              "}\n",
              "\n",
              "/**\n",
              " * Generator function which is called between each async step of the upload\n",
              " * process.\n",
              " * @param {string} inputId Element ID of the input file picker element.\n",
              " * @param {string} outputId Element ID of the output display.\n",
              " * @return {!Iterable<!Object>} Iterable of next steps.\n",
              " */\n",
              "function* uploadFilesStep(inputId, outputId) {\n",
              "  const inputElement = document.getElementById(inputId);\n",
              "  inputElement.disabled = false;\n",
              "\n",
              "  const outputElement = document.getElementById(outputId);\n",
              "  outputElement.innerHTML = '';\n",
              "\n",
              "  const pickedPromise = new Promise((resolve) => {\n",
              "    inputElement.addEventListener('change', (e) => {\n",
              "      resolve(e.target.files);\n",
              "    });\n",
              "  });\n",
              "\n",
              "  const cancel = document.createElement('button');\n",
              "  inputElement.parentElement.appendChild(cancel);\n",
              "  cancel.textContent = 'Cancel upload';\n",
              "  const cancelPromise = new Promise((resolve) => {\n",
              "    cancel.onclick = () => {\n",
              "      resolve(null);\n",
              "    };\n",
              "  });\n",
              "\n",
              "  // Wait for the user to pick the files.\n",
              "  const files = yield {\n",
              "    promise: Promise.race([pickedPromise, cancelPromise]),\n",
              "    response: {\n",
              "      action: 'starting',\n",
              "    }\n",
              "  };\n",
              "\n",
              "  cancel.remove();\n",
              "\n",
              "  // Disable the input element since further picks are not allowed.\n",
              "  inputElement.disabled = true;\n",
              "\n",
              "  if (!files) {\n",
              "    return {\n",
              "      response: {\n",
              "        action: 'complete',\n",
              "      }\n",
              "    };\n",
              "  }\n",
              "\n",
              "  for (const file of files) {\n",
              "    const li = document.createElement('li');\n",
              "    li.append(span(file.name, {fontWeight: 'bold'}));\n",
              "    li.append(span(\n",
              "        `(${file.type || 'n/a'}) - ${file.size} bytes, ` +\n",
              "        `last modified: ${\n",
              "            file.lastModifiedDate ? file.lastModifiedDate.toLocaleDateString() :\n",
              "                                    'n/a'} - `));\n",
              "    const percent = span('0% done');\n",
              "    li.appendChild(percent);\n",
              "\n",
              "    outputElement.appendChild(li);\n",
              "\n",
              "    const fileDataPromise = new Promise((resolve) => {\n",
              "      const reader = new FileReader();\n",
              "      reader.onload = (e) => {\n",
              "        resolve(e.target.result);\n",
              "      };\n",
              "      reader.readAsArrayBuffer(file);\n",
              "    });\n",
              "    // Wait for the data to be ready.\n",
              "    let fileData = yield {\n",
              "      promise: fileDataPromise,\n",
              "      response: {\n",
              "        action: 'continue',\n",
              "      }\n",
              "    };\n",
              "\n",
              "    // Use a chunked sending to avoid message size limits. See b/62115660.\n",
              "    let position = 0;\n",
              "    do {\n",
              "      const length = Math.min(fileData.byteLength - position, MAX_PAYLOAD_SIZE);\n",
              "      const chunk = new Uint8Array(fileData, position, length);\n",
              "      position += length;\n",
              "\n",
              "      const base64 = btoa(String.fromCharCode.apply(null, chunk));\n",
              "      yield {\n",
              "        response: {\n",
              "          action: 'append',\n",
              "          file: file.name,\n",
              "          data: base64,\n",
              "        },\n",
              "      };\n",
              "\n",
              "      let percentDone = fileData.byteLength === 0 ?\n",
              "          100 :\n",
              "          Math.round((position / fileData.byteLength) * 100);\n",
              "      percent.textContent = `${percentDone}% done`;\n",
              "\n",
              "    } while (position < fileData.byteLength);\n",
              "  }\n",
              "\n",
              "  // All done.\n",
              "  yield {\n",
              "    response: {\n",
              "      action: 'complete',\n",
              "    }\n",
              "  };\n",
              "}\n",
              "\n",
              "scope.google = scope.google || {};\n",
              "scope.google.colab = scope.google.colab || {};\n",
              "scope.google.colab._files = {\n",
              "  _uploadFiles,\n",
              "  _uploadFilesContinue,\n",
              "};\n",
              "})(self);\n",
              "</script> "
            ]
          },
          "metadata": {}
        },
        {
          "output_type": "stream",
          "name": "stdout",
          "text": [
            "Saving abtesting-dataset.csv to abtesting-dataset.csv\n"
          ]
        }
      ]
    },
    {
      "cell_type": "code",
      "execution_count": null,
      "id": "fdfe1819-d535-4d41-ba10-63f36f172ed5",
      "metadata": {
        "id": "fdfe1819-d535-4d41-ba10-63f36f172ed5",
        "outputId": "c7aac748-e48a-4952-f7cd-fbe377c755c2",
        "colab": {
          "base_uri": "https://localhost:8080/"
        }
      },
      "outputs": [
        {
          "output_type": "stream",
          "name": "stdout",
          "text": [
            "[[ 5199  9826]\n",
            " [ 4357 10667]]\n"
          ]
        },
        {
          "output_type": "execute_result",
          "data": {
            "text/plain": [
              "Chi2ContingencyResult(statistic=108.44557259748902, pvalue=2.1466484109729665e-25, dof=1, expected_freq=array([[ 4778.15900696, 10246.84099304],\n",
              "       [ 4777.84099304, 10246.15900696]]))"
            ]
          },
          "metadata": {},
          "execution_count": 3
        }
      ],
      "source": [
        "from scipy.stats import chi2_contingency\n",
        "import pandas as pd\n",
        "import numpy as np\n",
        "#1. Create a contigency table (bảng tương quan)\n",
        "df = pd.read_csv('abtesting-dataset.csv')\n",
        "group1 = df[df['group'] == 1]\n",
        "group2 = df[df['group'] == 2]\n",
        "\n",
        "group1__non_converted = group1.loc[group1['is_buy'] == 0]['is_buy'].count()\n",
        "group2__non_converted = group2.loc[group2['is_buy'] == 0]['is_buy'].count()\n",
        "\n",
        "group1__converted = group1.loc[group1['is_buy'] == 1]['is_buy'].count()\n",
        "group2__converted = group2.loc[group2['is_buy'] == 1]['is_buy'].count()\n",
        "\n",
        "contingency_table = np.array([[group1__converted,group1__non_converted],\n",
        "                              [group2__converted,group2__non_converted]])\n",
        "print(contingency_table)\n",
        "#2. Apply chi-square test:\n",
        "\n",
        "result = chi2_contingency(contingency_table,correction = True)\n",
        "result\n"
      ]
    },
    {
      "cell_type": "markdown",
      "source": [
        "### My thought"
      ],
      "metadata": {
        "id": "qGK3r5sjsRga"
      },
      "id": "qGK3r5sjsRga"
    },
    {
      "cell_type": "markdown",
      "source": [
        "The conversion rate for Screen A is significantly greater than the conversion rate for Screen B.\n",
        "\n",
        "The data provides overwhelming evidence (p-value: 0.0000) to reject the null hypothesis (H0) and support the alternative hypothesis (H1).\n",
        "\n",
        "The difference in conversion rates between the two screens is highly statistically significant (One-Sided Chi-Square Statistic: 5199.00) and unlikely to have occurred by chance.\n",
        "\n",
        "Therefore, I would advise using screen A while keeping these considerations in mind:"
      ],
      "metadata": {
        "id": "PwsDbLpusI5u"
      },
      "id": "PwsDbLpusI5u"
    },
    {
      "cell_type": "markdown",
      "source": [
        "#### Consideration #1: Be aware of Practical Significance\n",
        "Now, it's time to be considerate. I'm going to calculate the effect size to quantify the magnitude of the difference between the 2 conversion rates, telling me how large the actual difference is, beyond the statistical significance."
      ],
      "metadata": {
        "id": "z2xVxEzZsL-y"
      },
      "id": "z2xVxEzZsL-y"
    },
    {
      "cell_type": "code",
      "source": [
        "import scipy.stats as stats"
      ],
      "metadata": {
        "id": "PHKE7qscsaGf"
      },
      "id": "PHKE7qscsaGf",
      "execution_count": null,
      "outputs": []
    },
    {
      "cell_type": "code",
      "source": [
        "# Calculate conversion rate\n",
        "screen_a_converted = contingency_table[0, 0] / (contingency_table[0, 0] + contingency_table[0, 1])\n",
        "screen_b_converted = contingency_table[1, 0] / (contingency_table[1, 0] + contingency_table[1, 1])\n",
        "\n",
        "print(f\"Conversion rate for screen A: {screen_a_converted:.2%}\")\n",
        "print(f\"Conversion rate for screen B: {screen_b_converted:.2%}\")"
      ],
      "metadata": {
        "colab": {
          "base_uri": "https://localhost:8080/"
        },
        "id": "yHfrH18gscMg",
        "outputId": "31c05537-0e53-41d4-a713-724a570a8116"
      },
      "id": "yHfrH18gscMg",
      "execution_count": null,
      "outputs": [
        {
          "output_type": "stream",
          "name": "stdout",
          "text": [
            "Conversion rate for screen A: 34.60%\n",
            "Conversion rate for screen B: 29.00%\n"
          ]
        }
      ]
    },
    {
      "cell_type": "markdown",
      "source": [
        "Effect size: 34.60% - 29.00% = 5.61% The 5.61 percentage point difference may or may not be practically significant, depending on the specific context and goals of the analysis. To be more specific, if the overall conversion rates are low, a 5.61 percentage point difference could be quite meaningful. But if the overall conversion rates are already high, a 5.61 percentage point difference may not translate to a significant real-world impact."
      ],
      "metadata": {
        "id": "hD-T5aHhsgrg"
      },
      "id": "hD-T5aHhsgrg"
    },
    {
      "cell_type": "markdown",
      "source": [
        "#### Consideration #2: Be aware of Downstream Metrics\n",
        "\n",
        "1. Identify potential downstream metrics:\n",
        "\n",
        "Think about what other important business metrics or KPIs could be impacted by the choice of screen design (screen A vs. screen B).\n",
        "\n",
        "Some examples could include:\n",
        "- Total revenue or sales\n",
        "- Customer lifetime value\n",
        "- Repeat purchase rate\n",
        "- Customer satisfaction\n",
        "- User engagement metrics (e.g., time on site, pages viewed)\n",
        "\n",
        "2. Analyze the downstream impact:\n",
        "- Examine how the choice of screen design (A vs. B) affects these downstream metrics, not just the immediate conversion rate.\n",
        "- For example, if screen A has a higher conversion rate but leads to lower customer satisfaction or repeat purchases, the overall business impact may not be as positive as the conversion rate alone suggests.\n",
        "- Look for any unexpected effects on the downstream metrics.\n",
        "\n",
        "3. Evaluate the full picture:\n",
        "- Don't rely solely on the conversion rate difference as the measure of success. Take a holistic view and consider the impact on the broader set of relevant metrics.\n",
        "- The goal should be to understand how the choice of screen design affects the entire customer journey and business performance, not just the initial conversion.\n",
        "\n",
        "4. Iterate\n",
        "- Use the insights from the downstream metric analysis to inform future iterations of the screen design or other product/marketing decisions.\n",
        "- Continuously monitor the key downstream metrics to ensure the chosen design is delivering the desired overall business impact."
      ],
      "metadata": {
        "id": "MRJEXrJBsk4l"
      },
      "id": "MRJEXrJBsk4l"
    },
    {
      "cell_type": "markdown",
      "source": [
        "#### Consideration #3:  Be aware of the local maximum\n",
        "\n",
        "Consider the test duration, which should not linger more than expected as there might be better options beyond screen A and B. Besides, there would be more campaigns coming."
      ],
      "metadata": {
        "id": "8HoJHSu5sonu"
      },
      "id": "8HoJHSu5sonu"
    }
  ],
  "metadata": {
    "kernelspec": {
      "display_name": "Python 3 (ipykernel)",
      "language": "python",
      "name": "python3"
    },
    "language_info": {
      "codemirror_mode": {
        "name": "ipython",
        "version": 3
      },
      "file_extension": ".py",
      "mimetype": "text/x-python",
      "name": "python",
      "nbconvert_exporter": "python",
      "pygments_lexer": "ipython3",
      "version": "3.9.7"
    },
    "colab": {
      "provenance": [],
      "include_colab_link": true
    }
  },
  "nbformat": 4,
  "nbformat_minor": 5
}